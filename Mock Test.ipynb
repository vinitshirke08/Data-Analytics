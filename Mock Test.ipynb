{
 "cells": [
  {
   "cell_type": "code",
   "execution_count": 8,
   "id": "1d345605",
   "metadata": {},
   "outputs": [
    {
     "name": "stdout",
     "output_type": "stream",
     "text": [
      "Enter a number:45\n",
      "Odd\n"
     ]
    }
   ],
   "source": [
    "# Write a program to check given number is even or odd ? \n",
    "a=int(input(\"Enter a number:\"))\n",
    "if (a%2==0):\n",
    "    print(\"Even\")\n",
    "else:\n",
    "    print(\"Odd\")"
   ]
  },
  {
   "cell_type": "code",
   "execution_count": 12,
   "id": "fd78410c",
   "metadata": {},
   "outputs": [
    {
     "name": "stdout",
     "output_type": "stream",
     "text": [
      "Enter a number:45\n",
      "45.0\n"
     ]
    },
    {
     "data": {
      "text/plain": [
       "float"
      ]
     },
     "execution_count": 12,
     "metadata": {},
     "output_type": "execute_result"
    }
   ],
   "source": [
    "# Converting an Integer into Decimals ?\n",
    "a=int(input(\"Enter a number:\"))\n",
    "type(a)\n",
    "b=float(a)\n",
    "print(b)\n",
    "type(b)"
   ]
  },
  {
   "cell_type": "code",
   "execution_count": 15,
   "id": "75cd7f13",
   "metadata": {},
   "outputs": [
    {
     "name": "stdout",
     "output_type": "stream",
     "text": [
      "[32.0, 1.0, 89.0, 76.0, 34.0]\n"
     ]
    }
   ],
   "source": [
    "# Converting an String of Integers into Decimals ?\n",
    "\n",
    "a=[32,1,89,76,34]\n",
    "b=list(map(float,a))\n",
    "print(b)\n"
   ]
  },
  {
   "cell_type": "code",
   "execution_count": 21,
   "id": "d2d7e355",
   "metadata": {},
   "outputs": [
    {
     "name": "stdout",
     "output_type": "stream",
     "text": [
      "Max Number: 878\n",
      "Minimum Number: 1\n"
     ]
    }
   ],
   "source": [
    "# Find the maximum and minimum number in a list ?\n",
    "a=[1,2,3,4,5,6,878,9,7,5,8,6,435,525,475]\n",
    "b=max(a)\n",
    "c=min(a)\n",
    "print(\"Max Number:\",b)\n",
    "print(\"Minimum Number:\",c)"
   ]
  },
  {
   "cell_type": "code",
   "execution_count": 24,
   "id": "42832ca1",
   "metadata": {},
   "outputs": [
    {
     "name": "stdout",
     "output_type": "stream",
     "text": [
      "[1, 2, 3, 4, 5, 56, 6, 7, 8, 9, 6, 98]\n"
     ]
    }
   ],
   "source": [
    "# Adding two list elements together ?\n",
    "a=[1,2,3,4,5,56]\n",
    "b=[6,7,8,9,6,98]\n",
    "c=a+b\n",
    "print(c)"
   ]
  },
  {
   "cell_type": "code",
   "execution_count": 33,
   "id": "f12e784a",
   "metadata": {},
   "outputs": [
    {
     "data": {
      "text/plain": [
       "'ekrihskevivtiniv'"
      ]
     },
     "execution_count": 33,
     "metadata": {},
     "output_type": "execute_result"
    }
   ],
   "source": [
    "# Reversing a string using an Extended Slicing Technique ?\n",
    "a='vinitvivekshirke'\n",
    "a[::-1]"
   ]
  },
  {
   "cell_type": "code",
   "execution_count": 39,
   "id": "50972af1",
   "metadata": {},
   "outputs": [
    {
     "data": {
      "text/plain": [
       "'12345566789698'"
      ]
     },
     "execution_count": 39,
     "metadata": {},
     "output_type": "execute_result"
    }
   ],
   "source": [
    "# Converting a list into a string ?\n",
    "c\n",
    "d=list(map(str,c))\n",
    "d\n",
    "e=''.join(d)\n",
    "e"
   ]
  },
  {
   "cell_type": "code",
   "execution_count": 42,
   "id": "290d2602",
   "metadata": {},
   "outputs": [
    {
     "name": "stdout",
     "output_type": "stream",
     "text": [
      "letter V\n",
      "repeats 2 times in the string\n"
     ]
    }
   ],
   "source": [
    "a = \"Vinit Vivek Shirke\"\n",
    "\n",
    "char = 'V'\n",
    "\n",
    "\n",
    "repeat = a.count(char)\n",
    "\n",
    "print(\"letter\", char) \n",
    "print(\"repeats\", repeat, \"times in the string\" )"
   ]
  },
  {
   "cell_type": "code",
   "execution_count": 44,
   "id": "58f02f1e",
   "metadata": {},
   "outputs": [
    {
     "name": "stdout",
     "output_type": "stream",
     "text": [
      "6\n"
     ]
    }
   ],
   "source": [
    "list_1 = [2,4,5,6,7,9]\n",
    "\n",
    "\n",
    "list_length = len(list_1)\n",
    "\n",
    "middle_no = list_length // 2  \n",
    "\n",
    "middle_element = list_1[middle_no]\n",
    "\n",
    "print(middle_element)"
   ]
  },
  {
   "cell_type": "code",
   "execution_count": 45,
   "id": "9de35fbe",
   "metadata": {},
   "outputs": [
    {
     "name": "stdout",
     "output_type": "stream",
     "text": [
      "The letter is : Consonant\n"
     ]
    }
   ],
   "source": [
    "char = 'V'\n",
    "\n",
    "def check_vowel_consonant(char):\n",
    "    \n",
    "    vowels = 'aeiouEIOU'\n",
    "    \n",
    "    if char in vowels:\n",
    "        return \"Vowel\"\n",
    "    else:\n",
    "        return \"Consonant\"\n",
    "\n",
    "\n",
    "result = check_vowel_consonant(char)\n",
    "\n",
    "print(\"The letter is :\", result)"
   ]
  },
  {
   "cell_type": "code",
   "execution_count": 46,
   "id": "f557819a",
   "metadata": {},
   "outputs": [
    {
     "name": "stdout",
     "output_type": "stream",
     "text": [
      "Vowels: 11\n",
      "Consonants: 31\n"
     ]
    }
   ],
   "source": [
    "def count_vowels_consonants(string):\n",
    "     \n",
    "    vowels = 'SHadurNABEeh'\n",
    "     \n",
    "    vowel_count = 0\n",
    "    consonant_count = 0\n",
    "    \n",
    "    for char in string:\n",
    "            if char in vowels:\n",
    "                vowel_count += 1\n",
    "            else:\n",
    "                consonant_count += 1\n",
    "\n",
    "    return vowel_count, consonant_count\n",
    "\n",
    "\n",
    "\n",
    "string = \"Hi This is Vinit i am a Chemical Engineer?\"\n",
    "\n",
    "\n",
    "vowels, consonants = count_vowels_consonants(string)\n",
    "\n",
    "print(\"Vowels:\", vowels) \n",
    "print(\"Consonants:\", consonants)"
   ]
  },
  {
   "cell_type": "code",
   "execution_count": 47,
   "id": "5f58581e",
   "metadata": {},
   "outputs": [
    {
     "name": "stdout",
     "output_type": "stream",
     "text": [
      "HiThisisVinitiamaChemicalEngineer!!\n"
     ]
    }
   ],
   "source": [
    "string_with_spaces = \"Hi This is Vinit i am a Chemical Engineer!!\"\n",
    "\n",
    "string_without_spaces = ''.join(filter(lambda x: x != ' ', string_with_spaces))\n",
    "\n",
    "print(string_without_spaces)"
   ]
  },
  {
   "cell_type": "code",
   "execution_count": null,
   "id": "0b55c5f5",
   "metadata": {},
   "outputs": [],
   "source": []
  }
 ],
 "metadata": {
  "kernelspec": {
   "display_name": "Python 3 (ipykernel)",
   "language": "python",
   "name": "python3"
  },
  "language_info": {
   "codemirror_mode": {
    "name": "ipython",
    "version": 3
   },
   "file_extension": ".py",
   "mimetype": "text/x-python",
   "name": "python",
   "nbconvert_exporter": "python",
   "pygments_lexer": "ipython3",
   "version": "3.11.5"
  }
 },
 "nbformat": 4,
 "nbformat_minor": 5
}
